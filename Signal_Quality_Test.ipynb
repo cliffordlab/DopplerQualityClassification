{
 "cells": [
  {
   "cell_type": "code",
   "execution_count": 1,
   "id": "4e2fcd6d",
   "metadata": {},
   "outputs": [
    {
     "name": "stderr",
     "output_type": "stream",
     "text": [
      "2024-07-10 13:02:08.655716: E external/local_xla/xla/stream_executor/cuda/cuda_dnn.cc:9261] Unable to register cuDNN factory: Attempting to register factory for plugin cuDNN when one has already been registered\n",
      "2024-07-10 13:02:08.655786: E external/local_xla/xla/stream_executor/cuda/cuda_fft.cc:607] Unable to register cuFFT factory: Attempting to register factory for plugin cuFFT when one has already been registered\n",
      "2024-07-10 13:02:08.657274: E external/local_xla/xla/stream_executor/cuda/cuda_blas.cc:1515] Unable to register cuBLAS factory: Attempting to register factory for plugin cuBLAS when one has already been registered\n",
      "2024-07-10 13:02:08.668155: I tensorflow/core/platform/cpu_feature_guard.cc:182] This TensorFlow binary is optimized to use available CPU instructions in performance-critical operations.\n",
      "To enable the following instructions: AVX2 FMA, in other operations, rebuild TensorFlow with the appropriate compiler flags.\n"
     ]
    }
   ],
   "source": [
    "import numpy as np\n",
    "import tensorflow as tf\n",
    "from tensorflow.keras.models import Model\n",
    "import pywt\n",
    "from tensorflow.keras import backend as K\n",
    "from tensorflow.keras import initializers\n",
    "from skimage.transform import resize\n",
    "import os\n",
    "from scipy.io import wavfile\n",
    "from scipy.io.wavfile import read, write\n",
    "from scipy.signal import resample_poly\n",
    "import warnings\n",
    "import logging\n",
    "warnings.filterwarnings(\"ignore\")\n",
    "logging.getLogger('tensorflow').setLevel(logging.ERROR)"
   ]
  },
  {
   "cell_type": "markdown",
   "id": "fc429d86",
   "metadata": {},
   "source": [
    "# Functions"
   ]
  },
  {
   "cell_type": "code",
   "execution_count": 2,
   "id": "604fc4a1",
   "metadata": {},
   "outputs": [],
   "source": [
    "def signal_resample(signal, original_fs, target_fs):\n",
    "    gcd = np.gcd(original_fs, target_fs)\n",
    "    up = target_fs // gcd\n",
    "    down = original_fs // gcd\n",
    "    resampled_signal=resample_poly(signal, up, down)\n",
    "    return resampled_signal\n",
    "    \n",
    "def create_scalogram(sig,fs):\n",
    "    scales = np.arange(1, 41)\n",
    "    coeffs, _ = pywt.cwt(sig, scales, wavelet = 'morl', sampling_period=1/fs)\n",
    "    f = abs(coeffs)\n",
    "    f = resize(f, (40, 250), mode = 'constant')\n",
    "    return f\n",
    "\n",
    "def normalize(array):\n",
    "    return (array - array.min())/(array.max() - array.min()) "
   ]
  },
  {
   "cell_type": "markdown",
   "id": "d93379f1",
   "metadata": {},
   "source": [
    "# Loading Data"
   ]
  },
  {
   "cell_type": "code",
   "execution_count": 3,
   "id": "2bcb142a",
   "metadata": {
    "scrolled": true
   },
   "outputs": [],
   "source": [
    "fs=4000\n",
    "tensor_rec=np.zeros((1,250,40,1))\n",
    "\n",
    "original_fs, original_recording = wavfile.read('./Sample_Segments/Good.wav')\n",
    "\n",
    "\n",
    "DUS_Resampled = signal_resample(original_recording.astype('float32'), original_fs, fs) #Resampling the singal to 4 kHz\n",
    "DUS_Normalized=normalize(DUS_Resampled) #Normalizing the singal\n",
    "f=create_scalogram(DUS_Normalized,fs) #Creating the scalogram\n",
    "f=normalize(f) #Normalizing the scalogram\n",
    "tensor_rec[0,:,:,0]=f.T "
   ]
  },
  {
   "cell_type": "markdown",
   "id": "55161fb5",
   "metadata": {},
   "source": [
    "# Quality Evaluation"
   ]
  },
  {
   "cell_type": "code",
   "execution_count": 4,
   "id": "66736939",
   "metadata": {
    "scrolled": true
   },
   "outputs": [
    {
     "name": "stderr",
     "output_type": "stream",
     "text": [
      "2024-07-10 13:02:13.420441: I tensorflow/core/common_runtime/gpu/gpu_device.cc:1929] Created device /job:localhost/replica:0/task:0/device:GPU:0 with 11437 MB memory:  -> device: 0, name: Tesla P100-PCIE-12GB, pci bus id: 0000:04:00.0, compute capability: 6.0\n",
      "2024-07-10 13:02:16.057452: I external/local_xla/xla/stream_executor/cuda/cuda_dnn.cc:454] Loaded cuDNN version 8906\n"
     ]
    },
    {
     "name": "stdout",
     "output_type": "stream",
     "text": [
      "1/1 [==============================] - 2s 2s/step\n",
      "The Estimated Quality Class is \"Good\"\n"
     ]
    }
   ],
   "source": [
    "model_path = './saved_model'\n",
    "model = tf.keras.models.load_model(model_path)  # loading the saved model\n",
    "\n",
    "label = np.argmax(model.predict(tensor_rec), axis=1) \n",
    "\n",
    "quality_labels = {0: \"Good\", 1: \"Poor\", 2: \"Interference\", 3: \"Talking\", 4: \"Silent\"}\n",
    "\n",
    "# Print the quality labels\n",
    "Estimated_label = quality_labels[label[0]]\n",
    "print(f'The Estimated Quality Class is \"{Estimated_label}\"')"
   ]
  },
  {
   "cell_type": "code",
   "execution_count": null,
   "id": "364787a6-176b-4cba-a253-764fe167a407",
   "metadata": {},
   "outputs": [],
   "source": []
  }
 ],
 "metadata": {
  "kernelspec": {
   "display_name": "Python 3 (ipykernel)",
   "language": "python",
   "name": "python3"
  },
  "language_info": {
   "codemirror_mode": {
    "name": "ipython",
    "version": 3
   },
   "file_extension": ".py",
   "mimetype": "text/x-python",
   "name": "python",
   "nbconvert_exporter": "python",
   "pygments_lexer": "ipython3",
   "version": "3.11.5"
  }
 },
 "nbformat": 4,
 "nbformat_minor": 5
}
